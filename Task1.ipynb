{
  "nbformat": 4,
  "nbformat_minor": 0,
  "metadata": {
    "colab": {
      "name": "Task1.ipynb",
      "provenance": []
    },
    "kernelspec": {
      "name": "python3",
      "display_name": "Python 3"
    },
    "language_info": {
      "name": "python"
    }
  },
  "cells": [
    {
      "cell_type": "markdown",
      "source": [
        "![logo.png](data:image/png;base64,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)"
      ],
      "metadata": {
        "id": "EoI3JEorOACw"
      }
    },
    {
      "cell_type": "markdown",
      "source": [
        "# **Name : Sonali Balasaheb Gagare**\n",
        "#**Task 1 : Prediction using Supervised ML**\n",
        "### 1) Predict the percentage of a student based on the no. of study hours.\n",
        "\n",
        "### 2) What will be predicted score if a student studies for 9.25 hrs/ day?\n"
      ],
      "metadata": {
        "id": "gIL7bql_MVo4"
      }
    },
    {
      "cell_type": "markdown",
      "source": [
        "### **Importing Required Libraries**"
      ],
      "metadata": {
        "id": "T9oGpLzGOKFc"
      }
    },
    {
      "cell_type": "code",
      "source": [
        "import pandas as pd\n",
        "import numpy as np\n",
        "import matplotlib.pyplot as plt \n",
        "import seaborn as sns\n",
        "from sklearn.model_selection import train_test_split\n",
        "from sklearn.linear_model import LinearRegression\n",
        "from sklearn.metrics import mean_absolute_error"
      ],
      "metadata": {
        "id": "FJg2QYdlPjK2"
      },
      "execution_count": 1,
      "outputs": []
    },
    {
      "cell_type": "markdown",
      "source": [
        "### **Importing The DataSet**"
      ],
      "metadata": {
        "id": "WiYkwxYNPk4t"
      }
    },
    {
      "cell_type": "code",
      "source": [
        "path =  \"http://bit.ly/w-data\"\n",
        "Data = pd.read_csv(path)"
      ],
      "metadata": {
        "id": "L4aY1HmhP0XL"
      },
      "execution_count": 5,
      "outputs": []
    },
    {
      "cell_type": "markdown",
      "source": [
        "### **Display The Data From The DataSet**"
      ],
      "metadata": {
        "id": "k3QM8WXBWWBw"
      }
    },
    {
      "cell_type": "code",
      "source": [
        "Data.head() # First 5 rows"
      ],
      "metadata": {
        "colab": {
          "base_uri": "https://localhost:8080/",
          "height": 206
        },
        "id": "fcHVwm4TWVAa",
        "outputId": "b74f0737-6255-4c68-8caa-6cc7983a645d"
      },
      "execution_count": 6,
      "outputs": [
        {
          "output_type": "execute_result",
          "data": {
            "text/html": [
              "\n",
              "  <div id=\"df-7549ca39-5e2e-4e88-8337-b54dc608921f\">\n",
              "    <div class=\"colab-df-container\">\n",
              "      <div>\n",
              "<style scoped>\n",
              "    .dataframe tbody tr th:only-of-type {\n",
              "        vertical-align: middle;\n",
              "    }\n",
              "\n",
              "    .dataframe tbody tr th {\n",
              "        vertical-align: top;\n",
              "    }\n",
              "\n",
              "    .dataframe thead th {\n",
              "        text-align: right;\n",
              "    }\n",
              "</style>\n",
              "<table border=\"1\" class=\"dataframe\">\n",
              "  <thead>\n",
              "    <tr style=\"text-align: right;\">\n",
              "      <th></th>\n",
              "      <th>Hours</th>\n",
              "      <th>Scores</th>\n",
              "    </tr>\n",
              "  </thead>\n",
              "  <tbody>\n",
              "    <tr>\n",
              "      <th>0</th>\n",
              "      <td>2.5</td>\n",
              "      <td>21</td>\n",
              "    </tr>\n",
              "    <tr>\n",
              "      <th>1</th>\n",
              "      <td>5.1</td>\n",
              "      <td>47</td>\n",
              "    </tr>\n",
              "    <tr>\n",
              "      <th>2</th>\n",
              "      <td>3.2</td>\n",
              "      <td>27</td>\n",
              "    </tr>\n",
              "    <tr>\n",
              "      <th>3</th>\n",
              "      <td>8.5</td>\n",
              "      <td>75</td>\n",
              "    </tr>\n",
              "    <tr>\n",
              "      <th>4</th>\n",
              "      <td>3.5</td>\n",
              "      <td>30</td>\n",
              "    </tr>\n",
              "  </tbody>\n",
              "</table>\n",
              "</div>\n",
              "      <button class=\"colab-df-convert\" onclick=\"convertToInteractive('df-7549ca39-5e2e-4e88-8337-b54dc608921f')\"\n",
              "              title=\"Convert this dataframe to an interactive table.\"\n",
              "              style=\"display:none;\">\n",
              "        \n",
              "  <svg xmlns=\"http://www.w3.org/2000/svg\" height=\"24px\"viewBox=\"0 0 24 24\"\n",
              "       width=\"24px\">\n",
              "    <path d=\"M0 0h24v24H0V0z\" fill=\"none\"/>\n",
              "    <path d=\"M18.56 5.44l.94 2.06.94-2.06 2.06-.94-2.06-.94-.94-2.06-.94 2.06-2.06.94zm-11 1L8.5 8.5l.94-2.06 2.06-.94-2.06-.94L8.5 2.5l-.94 2.06-2.06.94zm10 10l.94 2.06.94-2.06 2.06-.94-2.06-.94-.94-2.06-.94 2.06-2.06.94z\"/><path d=\"M17.41 7.96l-1.37-1.37c-.4-.4-.92-.59-1.43-.59-.52 0-1.04.2-1.43.59L10.3 9.45l-7.72 7.72c-.78.78-.78 2.05 0 2.83L4 21.41c.39.39.9.59 1.41.59.51 0 1.02-.2 1.41-.59l7.78-7.78 2.81-2.81c.8-.78.8-2.07 0-2.86zM5.41 20L4 18.59l7.72-7.72 1.47 1.35L5.41 20z\"/>\n",
              "  </svg>\n",
              "      </button>\n",
              "      \n",
              "  <style>\n",
              "    .colab-df-container {\n",
              "      display:flex;\n",
              "      flex-wrap:wrap;\n",
              "      gap: 12px;\n",
              "    }\n",
              "\n",
              "    .colab-df-convert {\n",
              "      background-color: #E8F0FE;\n",
              "      border: none;\n",
              "      border-radius: 50%;\n",
              "      cursor: pointer;\n",
              "      display: none;\n",
              "      fill: #1967D2;\n",
              "      height: 32px;\n",
              "      padding: 0 0 0 0;\n",
              "      width: 32px;\n",
              "    }\n",
              "\n",
              "    .colab-df-convert:hover {\n",
              "      background-color: #E2EBFA;\n",
              "      box-shadow: 0px 1px 2px rgba(60, 64, 67, 0.3), 0px 1px 3px 1px rgba(60, 64, 67, 0.15);\n",
              "      fill: #174EA6;\n",
              "    }\n",
              "\n",
              "    [theme=dark] .colab-df-convert {\n",
              "      background-color: #3B4455;\n",
              "      fill: #D2E3FC;\n",
              "    }\n",
              "\n",
              "    [theme=dark] .colab-df-convert:hover {\n",
              "      background-color: #434B5C;\n",
              "      box-shadow: 0px 1px 3px 1px rgba(0, 0, 0, 0.15);\n",
              "      filter: drop-shadow(0px 1px 2px rgba(0, 0, 0, 0.3));\n",
              "      fill: #FFFFFF;\n",
              "    }\n",
              "  </style>\n",
              "\n",
              "      <script>\n",
              "        const buttonEl =\n",
              "          document.querySelector('#df-7549ca39-5e2e-4e88-8337-b54dc608921f button.colab-df-convert');\n",
              "        buttonEl.style.display =\n",
              "          google.colab.kernel.accessAllowed ? 'block' : 'none';\n",
              "\n",
              "        async function convertToInteractive(key) {\n",
              "          const element = document.querySelector('#df-7549ca39-5e2e-4e88-8337-b54dc608921f');\n",
              "          const dataTable =\n",
              "            await google.colab.kernel.invokeFunction('convertToInteractive',\n",
              "                                                     [key], {});\n",
              "          if (!dataTable) return;\n",
              "\n",
              "          const docLinkHtml = 'Like what you see? Visit the ' +\n",
              "            '<a target=\"_blank\" href=https://colab.research.google.com/notebooks/data_table.ipynb>data table notebook</a>'\n",
              "            + ' to learn more about interactive tables.';\n",
              "          element.innerHTML = '';\n",
              "          dataTable['output_type'] = 'display_data';\n",
              "          await google.colab.output.renderOutput(dataTable, element);\n",
              "          const docLink = document.createElement('div');\n",
              "          docLink.innerHTML = docLinkHtml;\n",
              "          element.appendChild(docLink);\n",
              "        }\n",
              "      </script>\n",
              "    </div>\n",
              "  </div>\n",
              "  "
            ],
            "text/plain": [
              "   Hours  Scores\n",
              "0    2.5      21\n",
              "1    5.1      47\n",
              "2    3.2      27\n",
              "3    8.5      75\n",
              "4    3.5      30"
            ]
          },
          "metadata": {},
          "execution_count": 6
        }
      ]
    },
    {
      "cell_type": "markdown",
      "source": [
        "### **Last 5 Rows**"
      ],
      "metadata": {
        "id": "OX61KGGrW1BK"
      }
    },
    {
      "cell_type": "code",
      "source": [
        "Data.tail()  # Last % Rows"
      ],
      "metadata": {
        "colab": {
          "base_uri": "https://localhost:8080/",
          "height": 206
        },
        "id": "H_TQJLuyW94J",
        "outputId": "2ea640f8-dd98-41ab-e08d-128917bb6cb1"
      },
      "execution_count": 7,
      "outputs": [
        {
          "output_type": "execute_result",
          "data": {
            "text/html": [
              "\n",
              "  <div id=\"df-63473798-7e94-4a56-8e9c-a6a7c7ed47de\">\n",
              "    <div class=\"colab-df-container\">\n",
              "      <div>\n",
              "<style scoped>\n",
              "    .dataframe tbody tr th:only-of-type {\n",
              "        vertical-align: middle;\n",
              "    }\n",
              "\n",
              "    .dataframe tbody tr th {\n",
              "        vertical-align: top;\n",
              "    }\n",
              "\n",
              "    .dataframe thead th {\n",
              "        text-align: right;\n",
              "    }\n",
              "</style>\n",
              "<table border=\"1\" class=\"dataframe\">\n",
              "  <thead>\n",
              "    <tr style=\"text-align: right;\">\n",
              "      <th></th>\n",
              "      <th>Hours</th>\n",
              "      <th>Scores</th>\n",
              "    </tr>\n",
              "  </thead>\n",
              "  <tbody>\n",
              "    <tr>\n",
              "      <th>20</th>\n",
              "      <td>2.7</td>\n",
              "      <td>30</td>\n",
              "    </tr>\n",
              "    <tr>\n",
              "      <th>21</th>\n",
              "      <td>4.8</td>\n",
              "      <td>54</td>\n",
              "    </tr>\n",
              "    <tr>\n",
              "      <th>22</th>\n",
              "      <td>3.8</td>\n",
              "      <td>35</td>\n",
              "    </tr>\n",
              "    <tr>\n",
              "      <th>23</th>\n",
              "      <td>6.9</td>\n",
              "      <td>76</td>\n",
              "    </tr>\n",
              "    <tr>\n",
              "      <th>24</th>\n",
              "      <td>7.8</td>\n",
              "      <td>86</td>\n",
              "    </tr>\n",
              "  </tbody>\n",
              "</table>\n",
              "</div>\n",
              "      <button class=\"colab-df-convert\" onclick=\"convertToInteractive('df-63473798-7e94-4a56-8e9c-a6a7c7ed47de')\"\n",
              "              title=\"Convert this dataframe to an interactive table.\"\n",
              "              style=\"display:none;\">\n",
              "        \n",
              "  <svg xmlns=\"http://www.w3.org/2000/svg\" height=\"24px\"viewBox=\"0 0 24 24\"\n",
              "       width=\"24px\">\n",
              "    <path d=\"M0 0h24v24H0V0z\" fill=\"none\"/>\n",
              "    <path d=\"M18.56 5.44l.94 2.06.94-2.06 2.06-.94-2.06-.94-.94-2.06-.94 2.06-2.06.94zm-11 1L8.5 8.5l.94-2.06 2.06-.94-2.06-.94L8.5 2.5l-.94 2.06-2.06.94zm10 10l.94 2.06.94-2.06 2.06-.94-2.06-.94-.94-2.06-.94 2.06-2.06.94z\"/><path d=\"M17.41 7.96l-1.37-1.37c-.4-.4-.92-.59-1.43-.59-.52 0-1.04.2-1.43.59L10.3 9.45l-7.72 7.72c-.78.78-.78 2.05 0 2.83L4 21.41c.39.39.9.59 1.41.59.51 0 1.02-.2 1.41-.59l7.78-7.78 2.81-2.81c.8-.78.8-2.07 0-2.86zM5.41 20L4 18.59l7.72-7.72 1.47 1.35L5.41 20z\"/>\n",
              "  </svg>\n",
              "      </button>\n",
              "      \n",
              "  <style>\n",
              "    .colab-df-container {\n",
              "      display:flex;\n",
              "      flex-wrap:wrap;\n",
              "      gap: 12px;\n",
              "    }\n",
              "\n",
              "    .colab-df-convert {\n",
              "      background-color: #E8F0FE;\n",
              "      border: none;\n",
              "      border-radius: 50%;\n",
              "      cursor: pointer;\n",
              "      display: none;\n",
              "      fill: #1967D2;\n",
              "      height: 32px;\n",
              "      padding: 0 0 0 0;\n",
              "      width: 32px;\n",
              "    }\n",
              "\n",
              "    .colab-df-convert:hover {\n",
              "      background-color: #E2EBFA;\n",
              "      box-shadow: 0px 1px 2px rgba(60, 64, 67, 0.3), 0px 1px 3px 1px rgba(60, 64, 67, 0.15);\n",
              "      fill: #174EA6;\n",
              "    }\n",
              "\n",
              "    [theme=dark] .colab-df-convert {\n",
              "      background-color: #3B4455;\n",
              "      fill: #D2E3FC;\n",
              "    }\n",
              "\n",
              "    [theme=dark] .colab-df-convert:hover {\n",
              "      background-color: #434B5C;\n",
              "      box-shadow: 0px 1px 3px 1px rgba(0, 0, 0, 0.15);\n",
              "      filter: drop-shadow(0px 1px 2px rgba(0, 0, 0, 0.3));\n",
              "      fill: #FFFFFF;\n",
              "    }\n",
              "  </style>\n",
              "\n",
              "      <script>\n",
              "        const buttonEl =\n",
              "          document.querySelector('#df-63473798-7e94-4a56-8e9c-a6a7c7ed47de button.colab-df-convert');\n",
              "        buttonEl.style.display =\n",
              "          google.colab.kernel.accessAllowed ? 'block' : 'none';\n",
              "\n",
              "        async function convertToInteractive(key) {\n",
              "          const element = document.querySelector('#df-63473798-7e94-4a56-8e9c-a6a7c7ed47de');\n",
              "          const dataTable =\n",
              "            await google.colab.kernel.invokeFunction('convertToInteractive',\n",
              "                                                     [key], {});\n",
              "          if (!dataTable) return;\n",
              "\n",
              "          const docLinkHtml = 'Like what you see? Visit the ' +\n",
              "            '<a target=\"_blank\" href=https://colab.research.google.com/notebooks/data_table.ipynb>data table notebook</a>'\n",
              "            + ' to learn more about interactive tables.';\n",
              "          element.innerHTML = '';\n",
              "          dataTable['output_type'] = 'display_data';\n",
              "          await google.colab.output.renderOutput(dataTable, element);\n",
              "          const docLink = document.createElement('div');\n",
              "          docLink.innerHTML = docLinkHtml;\n",
              "          element.appendChild(docLink);\n",
              "        }\n",
              "      </script>\n",
              "    </div>\n",
              "  </div>\n",
              "  "
            ],
            "text/plain": [
              "    Hours  Scores\n",
              "20    2.7      30\n",
              "21    4.8      54\n",
              "22    3.8      35\n",
              "23    6.9      76\n",
              "24    7.8      86"
            ]
          },
          "metadata": {},
          "execution_count": 7
        }
      ]
    },
    {
      "cell_type": "markdown",
      "source": [
        "### **Description of dataset**"
      ],
      "metadata": {
        "id": "fl2U5wZUXQEA"
      }
    },
    {
      "cell_type": "code",
      "source": [
        "Data.describe() # able to see mathematical insights of data."
      ],
      "metadata": {
        "colab": {
          "base_uri": "https://localhost:8080/",
          "height": 300
        },
        "id": "9oAlQPqHXWpg",
        "outputId": "e288ae73-ffe9-4199-9936-9abf891f934c"
      },
      "execution_count": 10,
      "outputs": [
        {
          "output_type": "execute_result",
          "data": {
            "text/html": [
              "\n",
              "  <div id=\"df-ca21da26-384e-4348-94d8-8a6f873f964a\">\n",
              "    <div class=\"colab-df-container\">\n",
              "      <div>\n",
              "<style scoped>\n",
              "    .dataframe tbody tr th:only-of-type {\n",
              "        vertical-align: middle;\n",
              "    }\n",
              "\n",
              "    .dataframe tbody tr th {\n",
              "        vertical-align: top;\n",
              "    }\n",
              "\n",
              "    .dataframe thead th {\n",
              "        text-align: right;\n",
              "    }\n",
              "</style>\n",
              "<table border=\"1\" class=\"dataframe\">\n",
              "  <thead>\n",
              "    <tr style=\"text-align: right;\">\n",
              "      <th></th>\n",
              "      <th>Hours</th>\n",
              "      <th>Scores</th>\n",
              "    </tr>\n",
              "  </thead>\n",
              "  <tbody>\n",
              "    <tr>\n",
              "      <th>count</th>\n",
              "      <td>25.000000</td>\n",
              "      <td>25.000000</td>\n",
              "    </tr>\n",
              "    <tr>\n",
              "      <th>mean</th>\n",
              "      <td>5.012000</td>\n",
              "      <td>51.480000</td>\n",
              "    </tr>\n",
              "    <tr>\n",
              "      <th>std</th>\n",
              "      <td>2.525094</td>\n",
              "      <td>25.286887</td>\n",
              "    </tr>\n",
              "    <tr>\n",
              "      <th>min</th>\n",
              "      <td>1.100000</td>\n",
              "      <td>17.000000</td>\n",
              "    </tr>\n",
              "    <tr>\n",
              "      <th>25%</th>\n",
              "      <td>2.700000</td>\n",
              "      <td>30.000000</td>\n",
              "    </tr>\n",
              "    <tr>\n",
              "      <th>50%</th>\n",
              "      <td>4.800000</td>\n",
              "      <td>47.000000</td>\n",
              "    </tr>\n",
              "    <tr>\n",
              "      <th>75%</th>\n",
              "      <td>7.400000</td>\n",
              "      <td>75.000000</td>\n",
              "    </tr>\n",
              "    <tr>\n",
              "      <th>max</th>\n",
              "      <td>9.200000</td>\n",
              "      <td>95.000000</td>\n",
              "    </tr>\n",
              "  </tbody>\n",
              "</table>\n",
              "</div>\n",
              "      <button class=\"colab-df-convert\" onclick=\"convertToInteractive('df-ca21da26-384e-4348-94d8-8a6f873f964a')\"\n",
              "              title=\"Convert this dataframe to an interactive table.\"\n",
              "              style=\"display:none;\">\n",
              "        \n",
              "  <svg xmlns=\"http://www.w3.org/2000/svg\" height=\"24px\"viewBox=\"0 0 24 24\"\n",
              "       width=\"24px\">\n",
              "    <path d=\"M0 0h24v24H0V0z\" fill=\"none\"/>\n",
              "    <path d=\"M18.56 5.44l.94 2.06.94-2.06 2.06-.94-2.06-.94-.94-2.06-.94 2.06-2.06.94zm-11 1L8.5 8.5l.94-2.06 2.06-.94-2.06-.94L8.5 2.5l-.94 2.06-2.06.94zm10 10l.94 2.06.94-2.06 2.06-.94-2.06-.94-.94-2.06-.94 2.06-2.06.94z\"/><path d=\"M17.41 7.96l-1.37-1.37c-.4-.4-.92-.59-1.43-.59-.52 0-1.04.2-1.43.59L10.3 9.45l-7.72 7.72c-.78.78-.78 2.05 0 2.83L4 21.41c.39.39.9.59 1.41.59.51 0 1.02-.2 1.41-.59l7.78-7.78 2.81-2.81c.8-.78.8-2.07 0-2.86zM5.41 20L4 18.59l7.72-7.72 1.47 1.35L5.41 20z\"/>\n",
              "  </svg>\n",
              "      </button>\n",
              "      \n",
              "  <style>\n",
              "    .colab-df-container {\n",
              "      display:flex;\n",
              "      flex-wrap:wrap;\n",
              "      gap: 12px;\n",
              "    }\n",
              "\n",
              "    .colab-df-convert {\n",
              "      background-color: #E8F0FE;\n",
              "      border: none;\n",
              "      border-radius: 50%;\n",
              "      cursor: pointer;\n",
              "      display: none;\n",
              "      fill: #1967D2;\n",
              "      height: 32px;\n",
              "      padding: 0 0 0 0;\n",
              "      width: 32px;\n",
              "    }\n",
              "\n",
              "    .colab-df-convert:hover {\n",
              "      background-color: #E2EBFA;\n",
              "      box-shadow: 0px 1px 2px rgba(60, 64, 67, 0.3), 0px 1px 3px 1px rgba(60, 64, 67, 0.15);\n",
              "      fill: #174EA6;\n",
              "    }\n",
              "\n",
              "    [theme=dark] .colab-df-convert {\n",
              "      background-color: #3B4455;\n",
              "      fill: #D2E3FC;\n",
              "    }\n",
              "\n",
              "    [theme=dark] .colab-df-convert:hover {\n",
              "      background-color: #434B5C;\n",
              "      box-shadow: 0px 1px 3px 1px rgba(0, 0, 0, 0.15);\n",
              "      filter: drop-shadow(0px 1px 2px rgba(0, 0, 0, 0.3));\n",
              "      fill: #FFFFFF;\n",
              "    }\n",
              "  </style>\n",
              "\n",
              "      <script>\n",
              "        const buttonEl =\n",
              "          document.querySelector('#df-ca21da26-384e-4348-94d8-8a6f873f964a button.colab-df-convert');\n",
              "        buttonEl.style.display =\n",
              "          google.colab.kernel.accessAllowed ? 'block' : 'none';\n",
              "\n",
              "        async function convertToInteractive(key) {\n",
              "          const element = document.querySelector('#df-ca21da26-384e-4348-94d8-8a6f873f964a');\n",
              "          const dataTable =\n",
              "            await google.colab.kernel.invokeFunction('convertToInteractive',\n",
              "                                                     [key], {});\n",
              "          if (!dataTable) return;\n",
              "\n",
              "          const docLinkHtml = 'Like what you see? Visit the ' +\n",
              "            '<a target=\"_blank\" href=https://colab.research.google.com/notebooks/data_table.ipynb>data table notebook</a>'\n",
              "            + ' to learn more about interactive tables.';\n",
              "          element.innerHTML = '';\n",
              "          dataTable['output_type'] = 'display_data';\n",
              "          await google.colab.output.renderOutput(dataTable, element);\n",
              "          const docLink = document.createElement('div');\n",
              "          docLink.innerHTML = docLinkHtml;\n",
              "          element.appendChild(docLink);\n",
              "        }\n",
              "      </script>\n",
              "    </div>\n",
              "  </div>\n",
              "  "
            ],
            "text/plain": [
              "           Hours     Scores\n",
              "count  25.000000  25.000000\n",
              "mean    5.012000  51.480000\n",
              "std     2.525094  25.286887\n",
              "min     1.100000  17.000000\n",
              "25%     2.700000  30.000000\n",
              "50%     4.800000  47.000000\n",
              "75%     7.400000  75.000000\n",
              "max     9.200000  95.000000"
            ]
          },
          "metadata": {},
          "execution_count": 10
        }
      ]
    },
    {
      "cell_type": "markdown",
      "source": [
        "### **Summeryof the Dataset**"
      ],
      "metadata": {
        "id": "w0bmWZRNXtGd"
      }
    },
    {
      "cell_type": "code",
      "source": [
        "Data.info()"
      ],
      "metadata": {
        "colab": {
          "base_uri": "https://localhost:8080/"
        },
        "id": "UP0C53_JYofy",
        "outputId": "be35872b-4681-4d48-eb93-07a6d8414fc8"
      },
      "execution_count": 15,
      "outputs": [
        {
          "output_type": "stream",
          "name": "stdout",
          "text": [
            "<class 'pandas.core.frame.DataFrame'>\n",
            "RangeIndex: 25 entries, 0 to 24\n",
            "Data columns (total 2 columns):\n",
            " #   Column  Non-Null Count  Dtype  \n",
            "---  ------  --------------  -----  \n",
            " 0   Hours   25 non-null     float64\n",
            " 1   Scores  25 non-null     int64  \n",
            "dtypes: float64(1), int64(1)\n",
            "memory usage: 528.0 bytes\n"
          ]
        }
      ]
    },
    {
      "cell_type": "markdown",
      "source": [
        "### **Dimensions of the Dataset**"
      ],
      "metadata": {
        "id": "5m5n09wPYlXh"
      }
    },
    {
      "cell_type": "code",
      "source": [
        "Data.shape"
      ],
      "metadata": {
        "colab": {
          "base_uri": "https://localhost:8080/"
        },
        "id": "6A3z1zfuXyuq",
        "outputId": "d757ae3e-d1f2-46d3-c6d4-371ce3b75687"
      },
      "execution_count": 14,
      "outputs": [
        {
          "output_type": "execute_result",
          "data": {
            "text/plain": [
              "(25, 2)"
            ]
          },
          "metadata": {},
          "execution_count": 14
        }
      ]
    },
    {
      "cell_type": "markdown",
      "source": [
        "### **Check if there any null value in the Dataset**"
      ],
      "metadata": {
        "id": "9tMoflZkZccH"
      }
    },
    {
      "cell_type": "code",
      "source": [
        "Data.isnull == True"
      ],
      "metadata": {
        "colab": {
          "base_uri": "https://localhost:8080/"
        },
        "id": "ugMn4aBHZfpF",
        "outputId": "c70dbc4a-dbbd-4130-d4c5-e59904b9a0b3"
      },
      "execution_count": 18,
      "outputs": [
        {
          "output_type": "execute_result",
          "data": {
            "text/plain": [
              "False"
            ]
          },
          "metadata": {},
          "execution_count": 18
        }
      ]
    },
    {
      "cell_type": "markdown",
      "source": [
        "**There is no null value in the Dataset so, we can now visualize our Data.**"
      ],
      "metadata": {
        "id": "euExfEQmZvqf"
      }
    },
    {
      "cell_type": "markdown",
      "source": [
        "### **Visualization of Data**"
      ],
      "metadata": {
        "id": "UrSkEVR-Y3Oc"
      }
    },
    {
      "cell_type": "code",
      "source": [
        "sns.heatmap(data=Data)"
      ],
      "metadata": {
        "colab": {
          "base_uri": "https://localhost:8080/",
          "height": 282
        },
        "id": "4iCO7XQSY_7o",
        "outputId": "d34fd1dc-2332-4b5a-818b-2b8ac896f274"
      },
      "execution_count": 17,
      "outputs": [
        {
          "output_type": "execute_result",
          "data": {
            "text/plain": [
              "<matplotlib.axes._subplots.AxesSubplot at 0x7f44c6874d90>"
            ]
          },
          "metadata": {},
          "execution_count": 17
        },
        {
          "output_type": "display_data",
          "data": {
            "image/png": "[encoded data removed]",
            "text/plain": [
              "<Figure size 432x288 with 2 Axes>"
            ]
          },
          "metadata": {
            "needs_background": "light"
          }
        }
      ]
    },
    {
      "cell_type": "markdown",
      "source": [
        "### **Calculate correlations**"
      ],
      "metadata": {
        "id": "H-Qy7SKFZU-g"
      }
    },
    {
      "cell_type": "code",
      "source": [
        "corr = Data.corr()\n",
        "sns.heatmap(corr)"
      ],
      "metadata": {
        "colab": {
          "base_uri": "https://localhost:8080/",
          "height": 286
        },
        "id": "orSWvUb5aQlL",
        "outputId": "19a07567-1d74-40b6-a445-c9edae62e276"
      },
      "execution_count": 19,
      "outputs": [
        {
          "output_type": "execute_result",
          "data": {
            "text/plain": [
              "<matplotlib.axes._subplots.AxesSubplot at 0x7f44bda77ed0>"
            ]
          },
          "metadata": {},
          "execution_count": 19
        },
        {
          "output_type": "display_data",
          "data": {
            "image/png": "[encoded data removed]",
            "text/plain": [
              "<Figure size 432x288 with 2 Axes>"
            ]
          },
          "metadata": {
            "needs_background": "light"
          }
        }
      ]
    },
    {
      "cell_type": "markdown",
      "source": [
        "**From the above graph ,we can clearly see that there is a positive linear relation between the number of hours and studied and percentage of score**"
      ],
      "metadata": {
        "id": "uuzLmrPlakvN"
      }
    },
    {
      "cell_type": "markdown",
      "source": [
        "### **Scatterplot for checking the Outlires**"
      ],
      "metadata": {
        "id": "h7r9SAlYarSV"
      }
    },
    {
      "cell_type": "code",
      "source": [
        "sns.set_style('darkgrid')\n",
        "sns.scatterplot(y= Data['Scores'], x= Data['Hours'], hue= Data['Scores'])\n",
        "plt.title('Marks Vs Study Hours',size=25)\n",
        "plt.ylabel('Marks Percentage', size=14)\n",
        "plt.xlabel('Hours Studied', size=14)\n",
        "plt.show()"
      ],
      "metadata": {
        "colab": {
          "base_uri": "https://localhost:8080/",
          "height": 308
        },
        "id": "TgnqoeoOapwG",
        "outputId": "d359d352-b374-47ee-abe7-d36c80fabda8"
      },
      "execution_count": 26,
      "outputs": [
        {
          "output_type": "display_data",
          "data": {
            "image/png": "[encoded data removed]",
            "text/plain": [
              "<Figure size 432x288 with 1 Axes>"
            ]
          },
          "metadata": {}
        }
      ]
    },
    {
      "cell_type": "code",
      "source": [
        "plt.pie(y)\n",
        "plt.show()"
      ],
      "metadata": {
        "colab": {
          "base_uri": "https://localhost:8080/",
          "height": 248
        },
        "id": "cXaqEqWMf3q_",
        "outputId": "9e934e1d-a90d-4a5a-ce60-744fc27cc455"
      },
      "execution_count": 35,
      "outputs": [
        {
          "output_type": "display_data",
          "data": {
            "image/png": "[encoded data removed]",
            "text/plain": [
              "<Figure size 432x288 with 1 Axes>"
            ]
          },
          "metadata": {}
        }
      ]
    },
    {
      "cell_type": "markdown",
      "source": [
        "### **Dividing The Data Into Attributes And Labels**"
      ],
      "metadata": {
        "id": "gvFUDch-ccCh"
      }
    },
    {
      "cell_type": "code",
      "source": [
        "x = Data.iloc[:, : -1].values\n",
        "y = Data.iloc[:, 1].values"
      ],
      "metadata": {
        "id": "_Rzho43Uc_GW"
      },
      "execution_count": 29,
      "outputs": []
    },
    {
      "cell_type": "markdown",
      "source": [
        "**The split of data into the training and test sets is very important as in this time we will be using Scikit Learn's builtin method of train_test_split()**"
      ],
      "metadata": {
        "id": "vkYbgU_qeGAN"
      }
    },
    {
      "cell_type": "code",
      "source": [
        "from sklearn.model_selection import train_test_split\n",
        "x_train, x_test, y_train, y_test = train_test_split(x, y, test_size = 0.3, random_state = 0)"
      ],
      "metadata": {
        "id": "ot-DU9bbeNHA"
      },
      "execution_count": 62,
      "outputs": []
    },
    {
      "cell_type": "markdown",
      "source": [
        "### **Train the Algorithm**"
      ],
      "metadata": {
        "id": "dQgHLy5yhvgl"
      }
    },
    {
      "cell_type": "code",
      "source": [
        "from sklearn.linear_model import LinearRegression\n",
        "regressor = LinearRegression()\n",
        "regressor.fit(x_train, y_train)  \n",
        "\n",
        "print(\"Training is Completed !....\")"
      ],
      "metadata": {
        "colab": {
          "base_uri": "https://localhost:8080/"
        },
        "id": "5q6kI9v1ht23",
        "outputId": "eda463bd-2a08-40f9-bd49-f9784ceb0f9b"
      },
      "execution_count": 63,
      "outputs": [
        {
          "output_type": "stream",
          "name": "stdout",
          "text": [
            "Training is Completed !....\n"
          ]
        }
      ]
    },
    {
      "cell_type": "markdown",
      "source": [
        "### **Plotting Test Data Using The Previously Trained Test Data**"
      ],
      "metadata": {
        "id": "lQkiSkBclIgN"
      }
    },
    {
      "cell_type": "code",
      "source": [
        "line = regressor.coef_*x+regressor.intercept_\n",
        "plt.scatter(x, y, color=\"Blue\")\n",
        "plt.plot(x, line, color=\"Red\")\n",
        "plt.xlabel(\"Hours\", fontsize= 15)\n",
        "plt.ylabel(\"Scores\", fontsize= 15)\n",
        "plt.show()"
      ],
      "metadata": {
        "colab": {
          "base_uri": "https://localhost:8080/",
          "height": 284
        },
        "id": "In_8bDaLlKy4",
        "outputId": "8f3a905d-f55b-43da-e3aa-25fd38f23aae"
      },
      "execution_count": 64,
      "outputs": [
        {
          "output_type": "display_data",
          "data": {
            "image/png": "[encoded data removed]",
            "text/plain": [
              "<Figure size 432x288 with 1 Axes>"
            ]
          },
          "metadata": {}
        }
      ]
    },
    {
      "cell_type": "markdown",
      "source": [
        "### **Predicting The Scores For The Model**"
      ],
      "metadata": {
        "id": "EnQGSbpTnIei"
      }
    },
    {
      "cell_type": "code",
      "source": [
        "print(x_test)   \n",
        "y_pred = regressor.predict(x_test)  "
      ],
      "metadata": {
        "colab": {
          "base_uri": "https://localhost:8080/"
        },
        "id": "nLOSwHKtnKok",
        "outputId": "62b41415-9d84-4b25-a2df-baa2f6b6efeb"
      },
      "execution_count": 65,
      "outputs": [
        {
          "output_type": "stream",
          "name": "stdout",
          "text": [
            "[[1.5]\n",
            " [3.2]\n",
            " [7.4]\n",
            " [2.5]\n",
            " [5.9]\n",
            " [3.8]\n",
            " [1.9]\n",
            " [7.8]]\n"
          ]
        }
      ]
    },
    {
      "cell_type": "markdown",
      "source": [
        "### **Comparing The Actual Versus Predicted Model To Understand Our Model Fitting**"
      ],
      "metadata": {
        "id": "oVmzJvp8pGP5"
      }
    },
    {
      "cell_type": "code",
      "source": [
        "df = pd.DataFrame({'Actual': y_test, 'Predicted': y_pred})    \n",
        "df"
      ],
      "metadata": {
        "colab": {
          "base_uri": "https://localhost:8080/",
          "height": 300
        },
        "id": "JG9_t7XBoqNo",
        "outputId": "f05a0cca-b522-4357-b16c-9e9b82c981fd"
      },
      "execution_count": 69,
      "outputs": [
        {
          "output_type": "execute_result",
          "data": {
            "text/html": [
              "\n",
              "  <div id=\"df-91ecbca4-9052-43f4-9cbe-389c20197fd7\">\n",
              "    <div class=\"colab-df-container\">\n",
              "      <div>\n",
              "<style scoped>\n",
              "    .dataframe tbody tr th:only-of-type {\n",
              "        vertical-align: middle;\n",
              "    }\n",
              "\n",
              "    .dataframe tbody tr th {\n",
              "        vertical-align: top;\n",
              "    }\n",
              "\n",
              "    .dataframe thead th {\n",
              "        text-align: right;\n",
              "    }\n",
              "</style>\n",
              "<table border=\"1\" class=\"dataframe\">\n",
              "  <thead>\n",
              "    <tr style=\"text-align: right;\">\n",
              "      <th></th>\n",
              "      <th>Actual</th>\n",
              "      <th>Predicted</th>\n",
              "    </tr>\n",
              "  </thead>\n",
              "  <tbody>\n",
              "    <tr>\n",
              "      <th>0</th>\n",
              "      <td>20</td>\n",
              "      <td>17.053665</td>\n",
              "    </tr>\n",
              "    <tr>\n",
              "      <th>1</th>\n",
              "      <td>27</td>\n",
              "      <td>33.694229</td>\n",
              "    </tr>\n",
              "    <tr>\n",
              "      <th>2</th>\n",
              "      <td>69</td>\n",
              "      <td>74.806209</td>\n",
              "    </tr>\n",
              "    <tr>\n",
              "      <th>3</th>\n",
              "      <td>30</td>\n",
              "      <td>26.842232</td>\n",
              "    </tr>\n",
              "    <tr>\n",
              "      <th>4</th>\n",
              "      <td>62</td>\n",
              "      <td>60.123359</td>\n",
              "    </tr>\n",
              "    <tr>\n",
              "      <th>5</th>\n",
              "      <td>35</td>\n",
              "      <td>39.567369</td>\n",
              "    </tr>\n",
              "    <tr>\n",
              "      <th>6</th>\n",
              "      <td>24</td>\n",
              "      <td>20.969092</td>\n",
              "    </tr>\n",
              "    <tr>\n",
              "      <th>7</th>\n",
              "      <td>86</td>\n",
              "      <td>78.721636</td>\n",
              "    </tr>\n",
              "  </tbody>\n",
              "</table>\n",
              "</div>\n",
              "      <button class=\"colab-df-convert\" onclick=\"convertToInteractive('df-91ecbca4-9052-43f4-9cbe-389c20197fd7')\"\n",
              "              title=\"Convert this dataframe to an interactive table.\"\n",
              "              style=\"display:none;\">\n",
              "        \n",
              "  <svg xmlns=\"http://www.w3.org/2000/svg\" height=\"24px\"viewBox=\"0 0 24 24\"\n",
              "       width=\"24px\">\n",
              "    <path d=\"M0 0h24v24H0V0z\" fill=\"none\"/>\n",
              "    <path d=\"M18.56 5.44l.94 2.06.94-2.06 2.06-.94-2.06-.94-.94-2.06-.94 2.06-2.06.94zm-11 1L8.5 8.5l.94-2.06 2.06-.94-2.06-.94L8.5 2.5l-.94 2.06-2.06.94zm10 10l.94 2.06.94-2.06 2.06-.94-2.06-.94-.94-2.06-.94 2.06-2.06.94z\"/><path d=\"M17.41 7.96l-1.37-1.37c-.4-.4-.92-.59-1.43-.59-.52 0-1.04.2-1.43.59L10.3 9.45l-7.72 7.72c-.78.78-.78 2.05 0 2.83L4 21.41c.39.39.9.59 1.41.59.51 0 1.02-.2 1.41-.59l7.78-7.78 2.81-2.81c.8-.78.8-2.07 0-2.86zM5.41 20L4 18.59l7.72-7.72 1.47 1.35L5.41 20z\"/>\n",
              "  </svg>\n",
              "      </button>\n",
              "      \n",
              "  <style>\n",
              "    .colab-df-container {\n",
              "      display:flex;\n",
              "      flex-wrap:wrap;\n",
              "      gap: 12px;\n",
              "    }\n",
              "\n",
              "    .colab-df-convert {\n",
              "      background-color: #E8F0FE;\n",
              "      border: none;\n",
              "      border-radius: 50%;\n",
              "      cursor: pointer;\n",
              "      display: none;\n",
              "      fill: #1967D2;\n",
              "      height: 32px;\n",
              "      padding: 0 0 0 0;\n",
              "      width: 32px;\n",
              "    }\n",
              "\n",
              "    .colab-df-convert:hover {\n",
              "      background-color: #E2EBFA;\n",
              "      box-shadow: 0px 1px 2px rgba(60, 64, 67, 0.3), 0px 1px 3px 1px rgba(60, 64, 67, 0.15);\n",
              "      fill: #174EA6;\n",
              "    }\n",
              "\n",
              "    [theme=dark] .colab-df-convert {\n",
              "      background-color: #3B4455;\n",
              "      fill: #D2E3FC;\n",
              "    }\n",
              "\n",
              "    [theme=dark] .colab-df-convert:hover {\n",
              "      background-color: #434B5C;\n",
              "      box-shadow: 0px 1px 3px 1px rgba(0, 0, 0, 0.15);\n",
              "      filter: drop-shadow(0px 1px 2px rgba(0, 0, 0, 0.3));\n",
              "      fill: #FFFFFF;\n",
              "    }\n",
              "  </style>\n",
              "\n",
              "      <script>\n",
              "        const buttonEl =\n",
              "          document.querySelector('#df-91ecbca4-9052-43f4-9cbe-389c20197fd7 button.colab-df-convert');\n",
              "        buttonEl.style.display =\n",
              "          google.colab.kernel.accessAllowed ? 'block' : 'none';\n",
              "\n",
              "        async function convertToInteractive(key) {\n",
              "          const element = document.querySelector('#df-91ecbca4-9052-43f4-9cbe-389c20197fd7');\n",
              "          const dataTable =\n",
              "            await google.colab.kernel.invokeFunction('convertToInteractive',\n",
              "                                                     [key], {});\n",
              "          if (!dataTable) return;\n",
              "\n",
              "          const docLinkHtml = 'Like what you see? Visit the ' +\n",
              "            '<a target=\"_blank\" href=https://colab.research.google.com/notebooks/data_table.ipynb>data table notebook</a>'\n",
              "            + ' to learn more about interactive tables.';\n",
              "          element.innerHTML = '';\n",
              "          dataTable['output_type'] = 'display_data';\n",
              "          await google.colab.output.renderOutput(dataTable, element);\n",
              "          const docLink = document.createElement('div');\n",
              "          docLink.innerHTML = docLinkHtml;\n",
              "          element.appendChild(docLink);\n",
              "        }\n",
              "      </script>\n",
              "    </div>\n",
              "  </div>\n",
              "  "
            ],
            "text/plain": [
              "   Actual  Predicted\n",
              "0      20  17.053665\n",
              "1      27  33.694229\n",
              "2      69  74.806209\n",
              "3      30  26.842232\n",
              "4      62  60.123359\n",
              "5      35  39.567369\n",
              "6      24  20.969092\n",
              "7      86  78.721636"
            ]
          },
          "metadata": {},
          "execution_count": 69
        }
      ]
    },
    {
      "cell_type": "markdown",
      "source": [
        "### **Test Model(Predicting The Score)**"
      ],
      "metadata": {
        "id": "DgwTYFkbqRq8"
      }
    },
    {
      "cell_type": "code",
      "source": [
        "hours = [9.25]\n",
        "own_pred = regressor.predict([hours])\n",
        "print(\"Number of hours = {}\".format(hours))  \n",
        "print(\"Prediction Score = {}\".format(own_pred[0])) "
      ],
      "metadata": {
        "colab": {
          "base_uri": "https://localhost:8080/"
        },
        "id": "EKidJO8vqUY_",
        "outputId": "06ee03e1-2490-474e-afb2-e6cfcfef4265"
      },
      "execution_count": 72,
      "outputs": [
        {
          "output_type": "stream",
          "name": "stdout",
          "text": [
            "Number of hours = [9.25]\n",
            "Prediction Score = 92.91505723477056\n"
          ]
        }
      ]
    },
    {
      "cell_type": "markdown",
      "source": [
        "### **Accuracy Of The Model**"
      ],
      "metadata": {
        "id": "q7PjnLALqTVZ"
      }
    },
    {
      "cell_type": "code",
      "source": [
        "from sklearn import metrics\n",
        "metrics.r2_score(y_test,y_pred)"
      ],
      "metadata": {
        "colab": {
          "base_uri": "https://localhost:8080/"
        },
        "id": "tFn3eQbxsMx4",
        "outputId": "0bca1645-0fa3-4bf4-9dd9-31f25c986415"
      },
      "execution_count": 73,
      "outputs": [
        {
          "output_type": "execute_result",
          "data": {
            "text/plain": [
              "0.9568211104435257"
            ]
          },
          "metadata": {},
          "execution_count": 73
        }
      ]
    },
    {
      "cell_type": "markdown",
      "source": [
        "### **Accuracy of The Model Is 95 %**"
      ],
      "metadata": {
        "id": "NAqNqBeZsSOU"
      }
    },
    {
      "cell_type": "markdown",
      "source": [
        "# **CONCLUSION**"
      ],
      "metadata": {
        "id": "q4Rx1OsXta6n"
      }
    },
    {
      "cell_type": "markdown",
      "source": [
        "## **According to the Linear regression model if a student studies for 9.25 hours/ day will scored 92.91 marks.**\n"
      ],
      "metadata": {
        "id": "kd9g80g4sbxr"
      }
    }
  ]
}